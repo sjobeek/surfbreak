{
 "cells": [
  {
   "cell_type": "markdown",
   "metadata": {},
   "source": [
    "### Now get optuna optimization trials working\n",
    "\n",
    "TODO:\n",
    "1. Improve early stopping such that I have control over patience parameter and ensure the _minimum_ validation loss is passed to the optuna study.\n",
    "\n",
    "The most well-regularized hyperparameters for simple (`mse_loss` only) ended up being \n",
    "256 hidden features, 3.7995 first_omega_0, 2.9312 hidden_omega_0\n",
    "\n",
    "With wavefunc loss, `squared_slowness` of around 0.5 may be close\n",
    "\n",
    "```\n",
    "Finished trial#26 with value: 0.09781524538993835 with parameters: \n",
    "{'first_omega_0': 4.839289222946841, 'hidden_omega_0': 13.756932872278343, 'squared_slowness': 0.27488941275825124, 'wave_loss_scale': 9.252313787089657e-08}\n",
    "```"
   ]
  },
  {
   "cell_type": "code",
   "execution_count": null,
   "metadata": {},
   "outputs": [],
   "source": [
    "import os\n",
    "import torch\n",
    "import pytorch_lightning as pl\n",
    "from surfbreak.waveform_models import LitSirenNet\n",
    "from optuna.integration import PyTorchLightningPruningCallback\n",
    "from surfbreak.studies import run_waveform_hyperparam_search, MetricsCallback\n",
    "LOGDIR = '../tmp/testlogs'\n",
    "MODELDIR = os.path.join(LOGDIR, 'opt_models')\n",
    "\n",
    "def objective(trial):\n",
    "    checkpoint_callback = pl.callbacks.ModelCheckpoint( # Filenames for each trial must be made unique\n",
    "        os.path.join(MODELDIR, \"trial_{}\".format(trial.number), \"{epoch}\"), monitor=\"val_loss\")\n",
    "    tb_logger = pl.loggers.TensorBoardLogger(LOGDIR+'/', name=\"optuna\")\n",
    "    metrics_callback = MetricsCallback()     # Simple callback that saves metrics from each validation step.\n",
    "    \n",
    "    pl.seed_everything(42)\n",
    "    trainer = pl.Trainer(logger=tb_logger, limit_val_batches=3,\n",
    "                         max_epochs=2, \n",
    "                         gpus=1 if torch.cuda.is_available() else None,\n",
    "                         callbacks=[metrics_callback],\n",
    "                         early_stop_callback=PyTorchLightningPruningCallback(trial, monitor=\"val_loss\"),\n",
    "                        )\n",
    "\n",
    "    wavefunc_model = LitSirenNet(video_filepath='../data/shirahama_1590387334_SURF-93cm.ts',\n",
    "                                 hidden_features=trial.suggest_categorical('hidden_features', [128, 256, 380]), #256,\n",
    "                                 hidden_layers=trial.suggest_categorical('hidden_layers', [3]), #3,\n",
    "                                 first_omega_0=trial.suggest_uniform('first_omega_0', 0.5, 2.5), #1.5, \n",
    "                                 hidden_omega_0=trial.suggest_uniform('hidden_omega_0', 8.5, 15), #11.7,\n",
    "                                 squared_slowness=trial.suggest_uniform('squared_slowness', 0.20, 0.70), #0.23,\n",
    "                                 steps_per_vid_chunk=10, \n",
    "                                 learning_rate=1e-4, grad_loss_scale=0, \n",
    "                                 wavefunc_loss_scale=trial.suggest_loguniform('wavefunc_loss_scale', 5e-9, 1e-7), #2e-8,\n",
    "                                 wavespeed_loss_scale=trial.suggest_loguniform('wavespeed_loss_scale', 1e-4, 1e-2), #1e-3,\n",
    "                                 xrange=(0,200), timerange=(0,3*10), chunk_duration=10, chunk_stride=10)\n",
    "                                 # With default settings wavezone image dimensions are (y=139, x=1515)\n",
    "\n",
    "    trainer.fit(wavefunc_model)\n",
    "    return metrics_callback.metrics[-1][\"val_loss\"].item()\n",
    "\n",
    "\n",
    "study = run_waveform_hyperparam_search(objective, n_trials=3, timeout=2*60, model_dir=MODELDIR, \n",
    "                                       prune=False, n_startup_trials=2, n_warmup_steps=5)\n"
   ]
  },
  {
   "cell_type": "code",
   "execution_count": null,
   "metadata": {},
   "outputs": [],
   "source": [
    "study.best_params"
   ]
  },
  {
   "cell_type": "code",
   "execution_count": null,
   "metadata": {},
   "outputs": [],
   "source": [
    "sdf = study.trials_dataframe()\n",
    "top_trials = sdf.sort_values(by='value')[:5]\n",
    "top_trials"
   ]
  },
  {
   "cell_type": "code",
   "execution_count": null,
   "metadata": {},
   "outputs": [],
   "source": [
    "print(top_trials.mean())\n",
    "print(top_trials.std())"
   ]
  },
  {
   "cell_type": "code",
   "execution_count": null,
   "metadata": {},
   "outputs": [],
   "source": []
  }
 ],
 "metadata": {
  "kernelspec": {
   "display_name": "Python 3",
   "language": "python",
   "name": "python3"
  }
 },
 "nbformat": 4,
 "nbformat_minor": 4
}
