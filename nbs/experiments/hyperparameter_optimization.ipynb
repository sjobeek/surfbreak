{
 "cells": [
  {
   "cell_type": "markdown",
   "metadata": {},
   "source": [
    "### Next steps:\n",
    "\n",
    "TODO:\n",
    "1. Develop method for measuring wave propogation speed in image coordinates,  then find the flattened homography that makes this as constant as possible.\n",
    "1. Create a pipeline that generates animations for each stage of the training process (normalization, clipping, learning), and compiles into a demo video.\n",
    "1. Get tensorboard metrics logging working with this logger class: https://github.com/PyTorchLightning/pytorch-lightning/issues/1228#issuecomment-622963564\n"
   ]
  },
  {
   "cell_type": "markdown",
   "metadata": {},
   "source": [
    "#### First get the basic Tensorflow Lightning training loop working"
   ]
  },
  {
   "cell_type": "markdown",
   "metadata": {},
   "source": [
    "### Now get optuna optimization trials working\n",
    "\n",
    "TODO:\n",
    "1. Improve early stopping such that I have control over patience parameter and ensure the _minimum_ validation loss is passed to the optuna study.\n",
    "\n",
    "The most well-regularized hyperparameters for simple (`mse_loss` only) ended up being \n",
    "256 hidden features, 3.7995 first_omega_0, 2.9312 hidden_omega_0\n",
    "\n",
    "With wavefunc loss, `squared_slowness` of around 0.5 may be close\n",
    "\n",
    "```\n",
    "Finished trial#26 with value: 0.09781524538993835 with parameters: \n",
    "{'first_omega_0': 4.839289222946841, 'hidden_omega_0': 13.756932872278343, 'squared_slowness': 0.27488941275825124, 'wave_loss_scale': 9.252313787089657e-08}\n",
    "```"
   ]
  },
  {
   "cell_type": "code",
   "execution_count": null,
   "metadata": {},
   "outputs": [
    {
     "name": "stderr",
     "output_type": "stream",
     "text": [
      "GPU available: True, used: True\n",
      "TPU available: False, using: 0 TPU cores\n",
      "CUDA_VISIBLE_DEVICES: [0]\n"
     ]
    },
    {
     "data": {
      "text/html": [
       "\n",
       "                Logging results to <a href=\"https://wandb.com\" target=\"_blank\">Weights & Biases</a> <a href=\"https://docs.wandb.com/integrations/jupyter.html\" target=\"_blank\">(Documentation)</a>.<br/>\n",
       "                Project page: <a href=\"https://app.wandb.ai/sjobeek/surfbreak\" target=\"_blank\">https://app.wandb.ai/sjobeek/surfbreak</a><br/>\n",
       "                Run page: <a href=\"https://app.wandb.ai/sjobeek/surfbreak/runs/1vwa2kr2\" target=\"_blank\">https://app.wandb.ai/sjobeek/surfbreak/runs/1vwa2kr2</a><br/>\n",
       "            "
      ],
      "text/plain": [
       "<IPython.core.display.HTML object>"
      ]
     },
     "metadata": {},
     "output_type": "display_data"
    },
    {
     "name": "stderr",
     "output_type": "stream",
     "text": [
      "\n",
      "  | Name           | Type  | Params | In sizes     | Out sizes                   \n",
      "---------------------------------------------------------------------------------------\n",
      "0 | model          | Siren | 198 K  | [1, 1337, 3] | [[1, 1337, 1], [1, 1337, 3]]\n",
      "1 | slowness_model | Siren | 8 K    | ?            | ?                           \n"
     ]
    },
    {
     "data": {
      "application/vnd.jupyter.widget-view+json": {
       "model_id": "",
       "version_major": 2,
       "version_minor": 0
      },
      "text/plain": [
       "HBox(children=(FloatProgress(value=1.0, bar_style='info', description='Validation sanity check', layout=Layout…"
      ]
     },
     "metadata": {},
     "output_type": "display_data"
    },
    {
     "data": {
      "application/vnd.jupyter.widget-view+json": {
       "model_id": "5c54d822024348ce8b58519b65546f6e",
       "version_major": 2,
       "version_minor": 0
      },
      "text/plain": [
       "HBox(children=(FloatProgress(value=1.0, bar_style='info', description='Training', layout=Layout(flex='2'), max…"
      ]
     },
     "metadata": {},
     "output_type": "display_data"
    },
    {
     "data": {
      "application/vnd.jupyter.widget-view+json": {
       "model_id": "",
       "version_major": 2,
       "version_minor": 0
      },
      "text/plain": [
       "HBox(children=(FloatProgress(value=1.0, bar_style='info', description='Validating', layout=Layout(flex='2'), m…"
      ]
     },
     "metadata": {},
     "output_type": "display_data"
    },
    {
     "data": {
      "application/vnd.jupyter.widget-view+json": {
       "model_id": "",
       "version_major": 2,
       "version_minor": 0
      },
      "text/plain": [
       "HBox(children=(FloatProgress(value=1.0, bar_style='info', description='Validating', layout=Layout(flex='2'), m…"
      ]
     },
     "metadata": {},
     "output_type": "display_data"
    },
    {
     "data": {
      "application/vnd.jupyter.widget-view+json": {
       "model_id": "b979c38a7f564d5296862829763fd0cf",
       "version_major": 2,
       "version_minor": 0
      },
      "text/plain": [
       "HBox(children=(FloatProgress(value=1.0, bar_style='info', description='Validating', layout=Layout(flex='2'), m…"
      ]
     },
     "metadata": {},
     "output_type": "display_data"
    }
   ],
   "source": [
    "import os\n",
    "import torch\n",
    "import pytorch_lightning as pl\n",
    "from surfbreak.waveform_models import WaveformNet\n",
    "from surfbreak.datasets import WavefrontDatasetTXYC, MaskedWavefrontBatchesNC, CachedDataset\n",
    "from optuna.integration import PyTorchLightningPruningCallback\n",
    "from surfbreak.studies import run_waveform_hyperparam_search, MetricsCallback\n",
    "\n",
    "os.chdir('/home/erik/work/surfbreak/nbs')\n",
    "\n",
    "# NOTE! Change this environment variable during each optimization experiemnt to group them properly on wandb\n",
    "os.environ[\"WANDB_RUN_GROUP\"] = \"test1\"\n",
    "\n",
    "LOGDIR = 'wandb'\n",
    "MODELDIR = os.path.join(LOGDIR, 'opt_models')\n",
    "\n",
    "def objective(trial):\n",
    "    checkpoint_callback = pl.callbacks.ModelCheckpoint( # Filenames for each trial must be made unique\n",
    "        os.path.join(MODELDIR, \"trial_{}\".format(trial.number), \"{epoch}\"), monitor=\"val_loss\")\n",
    "\n",
    "    wandb_logger = pl.loggers.wandb.WandbLogger(name=\"wfnet_opt_{}\".format(trial.number), save_dir=LOGDIR, project='surfbreak', log_model=True)\n",
    "    #tb_logger = pl.loggers.TensorBoardLogger(LOGDIR+'/', name=\"opt_v2\")\n",
    "    metrics_callback = MetricsCallback()     # Simple callback that saves metrics from each validation step.\n",
    "    \n",
    "    pl.seed_everything(42)\n",
    "\n",
    "    training_video = '../data/shirahama_1590387334_SURF-93cm.ts'\n",
    "    cnn_checkpoint ='../models/simplecnn_shirahama.ckpt'\n",
    "    start_s=60 \n",
    "    duration_s=30\n",
    "    max_epochs=10\n",
    "    wf_net_kwargs = dict(        \n",
    "        hidden_features=trial.suggest_categorical('hidden_features', [256]),\n",
    "        hidden_layers=trial.suggest_categorical('hidden_layers', [3]),\n",
    "        first_omega_0=trial.suggest_uniform('first_omega_0', 2.5, 4.5), #2.5, \n",
    "        hidden_omega_0=trial.suggest_uniform('hidden_omega_0', 10, 15), #11,\n",
    "        squared_slowness=trial.suggest_uniform('squared_slowness', 1.0, 2.0), #1.0,\n",
    "        learning_rate=2e-4,\n",
    "        wavefunc_loss_scale=trial.suggest_loguniform('wavefunc_loss_scale', 1e-12, 1e-12), #1e-9,\n",
    "        wavespeed_loss_scale=trial.suggest_loguniform('wavespeed_loss_scale', 1e-10, 1e-9), #1e-12,\n",
    "        wavespeed_first_omega_0=trial.suggest_uniform('ws_fo0', 1.0,2.0), #0.5\n",
    "        wavespeed_hidden_omega_0=trial.suggest_uniform('ws_ho0',1.0,3.0), #2.0\n",
    "        wfloss_growth_scale=trial.suggest_loguniform('wfloss_growth_scale', 1.5, 4),\n",
    "    )\n",
    "\n",
    "    # Train consists of 4-second chunks with a 1-second gap between each\n",
    "    txy_cache = CachedDataset(WavefrontDatasetTXYC, training_video, timerange=(start_s,start_s+duration_s), \n",
    "                                                    time_chunk_duration_s=3, time_chunk_stride_s=4, \n",
    "                                                    wavecnn_ckpt=cnn_checkpoint)\n",
    "    wf_train_dataset = MaskedWavefrontBatchesNC(txy_cache,samples_per_batch=600, included_time_fraction=1.0)\n",
    "    \n",
    "    # Validation covers last few seconds if the waveform, plus next few seconds (ability to extrapolate is desireable)\n",
    "    txy_valid = CachedDataset(WavefrontDatasetTXYC, training_video, timerange=(start_s,start_s+duration_s), \n",
    "                                                    time_chunk_duration_s=4, time_chunk_stride_s=4, \n",
    "                                                    wavecnn_ckpt=cnn_checkpoint)\n",
    "    wf_valid_dataset = MaskedWavefrontBatchesNC(txy_valid, samples_per_batch=600, included_time_fraction=0.5)\n",
    "    \n",
    "    # Visualize the last 25s of the waveform, plus the 5 seconds of validation-only data \n",
    "    viz_inftxy_dataset = WavefrontDatasetTXYC(training_video, timerange=(start_s+duration_s-25,start_s+duration_s+5), \n",
    "                                             time_chunk_duration_s=30, time_chunk_stride_s=30,\n",
    "                                             wavecnn_ckpt=cnn_checkpoint)\n",
    "   \n",
    "    wavefunc_model = WaveformNet(train_dataset=wf_train_dataset, valid_dataset=wf_valid_dataset,\n",
    "                                 viz_dataset=viz_inftxy_dataset, batch_size=100,\n",
    "                                 **wf_net_kwargs)    \n",
    "    \n",
    "    trainer = pl.Trainer(logger=wandb_logger, #limit_val_batches=50,\n",
    "                         max_epochs=max_epochs, \n",
    "                         gpus=1 if torch.cuda.is_available() else None,\n",
    "                         callbacks=[metrics_callback],\n",
    "                         early_stop_callback=PyTorchLightningPruningCallback(trial, monitor=\"val_loss\"),\n",
    "                        )\n",
    "\n",
    "    trainer.fit(wavefunc_model)\n",
    "    return metrics_callback.metrics[-1][\"val_loss\"].item()\n",
    "\n",
    "\n",
    "study = run_waveform_hyperparam_search(objective, n_trials=100, timeout=12*60*60, model_dir=MODELDIR, \n",
    "                                       prune=True, n_startup_trials=3, n_warmup_steps=5)\n"
   ]
  },
  {
   "cell_type": "code",
   "execution_count": null,
   "metadata": {},
   "outputs": [
    {
     "data": {
      "text/plain": [
       "{'hidden_features': 380,\n",
       " 'hidden_layers': 3,\n",
       " 'first_omega_0': 2.235704528549165,\n",
       " 'hidden_omega_0': 10.007569568983525,\n",
       " 'squared_slowness': 0.341543868797459,\n",
       " 'wavefunc_loss_scale': 5.97776850767863e-09,\n",
       " 'wavespeed_loss_scale': 0.00010504655720688889}"
      ]
     },
     "execution_count": null,
     "metadata": {},
     "output_type": "execute_result"
    }
   ],
   "source": [
    "study.best_params"
   ]
  },
  {
   "cell_type": "code",
   "execution_count": null,
   "metadata": {},
   "outputs": [
    {
     "data": {
      "text/html": [
       "<div>\n",
       "<style scoped>\n",
       "    .dataframe tbody tr th:only-of-type {\n",
       "        vertical-align: middle;\n",
       "    }\n",
       "\n",
       "    .dataframe tbody tr th {\n",
       "        vertical-align: top;\n",
       "    }\n",
       "\n",
       "    .dataframe thead th {\n",
       "        text-align: right;\n",
       "    }\n",
       "</style>\n",
       "<table border=\"1\" class=\"dataframe\">\n",
       "  <thead>\n",
       "    <tr style=\"text-align: right;\">\n",
       "      <th></th>\n",
       "      <th>number</th>\n",
       "      <th>value</th>\n",
       "      <th>datetime_start</th>\n",
       "      <th>datetime_complete</th>\n",
       "      <th>duration</th>\n",
       "      <th>params_first_omega_0</th>\n",
       "      <th>params_hidden_features</th>\n",
       "      <th>params_hidden_layers</th>\n",
       "      <th>params_hidden_omega_0</th>\n",
       "      <th>params_squared_slowness</th>\n",
       "      <th>params_wavefunc_loss_scale</th>\n",
       "      <th>params_wavespeed_loss_scale</th>\n",
       "      <th>state</th>\n",
       "    </tr>\n",
       "  </thead>\n",
       "  <tbody>\n",
       "    <tr>\n",
       "      <th>0</th>\n",
       "      <td>0</td>\n",
       "      <td>0.131143</td>\n",
       "      <td>2020-07-04 23:21:25.800355</td>\n",
       "      <td>2020-07-04 23:49:03.413944</td>\n",
       "      <td>00:27:37.613589</td>\n",
       "      <td>2.235705</td>\n",
       "      <td>380</td>\n",
       "      <td>3</td>\n",
       "      <td>10.007570</td>\n",
       "      <td>0.341544</td>\n",
       "      <td>5.977769e-09</td>\n",
       "      <td>0.000105</td>\n",
       "      <td>COMPLETE</td>\n",
       "    </tr>\n",
       "    <tr>\n",
       "      <th>11</th>\n",
       "      <td>11</td>\n",
       "      <td>0.131585</td>\n",
       "      <td>2020-07-05 04:15:30.272110</td>\n",
       "      <td>2020-07-05 04:40:23.186604</td>\n",
       "      <td>00:24:52.914494</td>\n",
       "      <td>2.496738</td>\n",
       "      <td>256</td>\n",
       "      <td>3</td>\n",
       "      <td>10.969015</td>\n",
       "      <td>0.204919</td>\n",
       "      <td>5.471891e-09</td>\n",
       "      <td>0.000435</td>\n",
       "      <td>COMPLETE</td>\n",
       "    </tr>\n",
       "    <tr>\n",
       "      <th>10</th>\n",
       "      <td>10</td>\n",
       "      <td>0.132419</td>\n",
       "      <td>2020-07-05 03:50:36.195951</td>\n",
       "      <td>2020-07-05 04:15:30.269835</td>\n",
       "      <td>00:24:54.073884</td>\n",
       "      <td>2.469356</td>\n",
       "      <td>256</td>\n",
       "      <td>3</td>\n",
       "      <td>10.737842</td>\n",
       "      <td>0.202324</td>\n",
       "      <td>5.536735e-09</td>\n",
       "      <td>0.000381</td>\n",
       "      <td>COMPLETE</td>\n",
       "    </tr>\n",
       "    <tr>\n",
       "      <th>16</th>\n",
       "      <td>16</td>\n",
       "      <td>0.137052</td>\n",
       "      <td>2020-07-05 06:19:26.508430</td>\n",
       "      <td>2020-07-05 06:44:19.426469</td>\n",
       "      <td>00:24:52.918039</td>\n",
       "      <td>1.573309</td>\n",
       "      <td>128</td>\n",
       "      <td>3</td>\n",
       "      <td>11.413517</td>\n",
       "      <td>0.301143</td>\n",
       "      <td>8.719026e-09</td>\n",
       "      <td>0.000751</td>\n",
       "      <td>COMPLETE</td>\n",
       "    </tr>\n",
       "    <tr>\n",
       "      <th>14</th>\n",
       "      <td>14</td>\n",
       "      <td>0.137106</td>\n",
       "      <td>2020-07-05 05:29:46.862792</td>\n",
       "      <td>2020-07-05 05:54:38.817953</td>\n",
       "      <td>00:24:51.955161</td>\n",
       "      <td>2.275557</td>\n",
       "      <td>256</td>\n",
       "      <td>3</td>\n",
       "      <td>11.615780</td>\n",
       "      <td>0.688081</td>\n",
       "      <td>9.518309e-09</td>\n",
       "      <td>0.000260</td>\n",
       "      <td>COMPLETE</td>\n",
       "    </tr>\n",
       "  </tbody>\n",
       "</table>\n",
       "</div>"
      ],
      "text/plain": [
       "    number     value             datetime_start          datetime_complete  \\\n",
       "0        0  0.131143 2020-07-04 23:21:25.800355 2020-07-04 23:49:03.413944   \n",
       "11      11  0.131585 2020-07-05 04:15:30.272110 2020-07-05 04:40:23.186604   \n",
       "10      10  0.132419 2020-07-05 03:50:36.195951 2020-07-05 04:15:30.269835   \n",
       "16      16  0.137052 2020-07-05 06:19:26.508430 2020-07-05 06:44:19.426469   \n",
       "14      14  0.137106 2020-07-05 05:29:46.862792 2020-07-05 05:54:38.817953   \n",
       "\n",
       "          duration  params_first_omega_0  params_hidden_features  \\\n",
       "0  00:27:37.613589              2.235705                     380   \n",
       "11 00:24:52.914494              2.496738                     256   \n",
       "10 00:24:54.073884              2.469356                     256   \n",
       "16 00:24:52.918039              1.573309                     128   \n",
       "14 00:24:51.955161              2.275557                     256   \n",
       "\n",
       "    params_hidden_layers  params_hidden_omega_0  params_squared_slowness  \\\n",
       "0                      3              10.007570                 0.341544   \n",
       "11                     3              10.969015                 0.204919   \n",
       "10                     3              10.737842                 0.202324   \n",
       "16                     3              11.413517                 0.301143   \n",
       "14                     3              11.615780                 0.688081   \n",
       "\n",
       "    params_wavefunc_loss_scale  params_wavespeed_loss_scale     state  \n",
       "0                 5.977769e-09                     0.000105  COMPLETE  \n",
       "11                5.471891e-09                     0.000435  COMPLETE  \n",
       "10                5.536735e-09                     0.000381  COMPLETE  \n",
       "16                8.719026e-09                     0.000751  COMPLETE  \n",
       "14                9.518309e-09                     0.000260  COMPLETE  "
      ]
     },
     "execution_count": null,
     "metadata": {},
     "output_type": "execute_result"
    }
   ],
   "source": [
    "sdf = study.trials_dataframe()\n",
    "top_trials = sdf.sort_values(by='value')[:5]\n",
    "top_trials"
   ]
  },
  {
   "cell_type": "code",
   "execution_count": null,
   "metadata": {},
   "outputs": [
    {
     "name": "stdout",
     "output_type": "stream",
     "text": [
      "number                                            9.5\n",
      "value                                        0.136229\n",
      "duration                       0 days 00:25:27.666368\n",
      "params_first_omega_0                          1.95588\n",
      "params_hidden_features                            255\n",
      "params_hidden_layers                                3\n",
      "params_hidden_omega_0                         11.3476\n",
      "params_squared_slowness                      0.400915\n",
      "params_wavefunc_loss_scale                8.04706e-09\n",
      "params_wavespeed_loss_scale               0.000499383\n",
      "dtype: object\n",
      "number                                        5.12696\n",
      "value                                      0.00405406\n",
      "duration                       0 days 00:01:14.189584\n",
      "params_first_omega_0                         0.630964\n",
      "params_hidden_features                         95.253\n",
      "params_hidden_layers                                0\n",
      "params_hidden_omega_0                         0.97345\n",
      "params_squared_slowness                      0.179524\n",
      "params_wavefunc_loss_scale                2.74085e-09\n",
      "params_wavespeed_loss_scale               0.000433801\n",
      "dtype: object\n"
     ]
    }
   ],
   "source": [
    "print(top_trials.mean())\n",
    "print(top_trials.std())"
   ]
  },
  {
   "cell_type": "code",
   "execution_count": null,
   "metadata": {},
   "outputs": [],
   "source": []
  }
 ],
 "metadata": {
  "kernelspec": {
   "display_name": "Python 3",
   "language": "python",
   "name": "python3"
  }
 },
 "nbformat": 4,
 "nbformat_minor": 4
}
