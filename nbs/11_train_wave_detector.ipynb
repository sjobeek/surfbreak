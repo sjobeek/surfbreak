{
 "cells": [
  {
   "cell_type": "markdown",
   "metadata": {},
   "source": [
    "### Train a wave detector using a simplified U-net architecture\n",
    "\n",
    "https://github.com/usuyama/pytorch-unet/blob/master/pytorch_unet.py\n",
    "\n"
   ]
  },
  {
   "cell_type": "code",
   "execution_count": null,
   "metadata": {},
   "outputs": [],
   "source": []
  }
 ],
 "metadata": {
  "kernelspec": {
   "display_name": "Python 3.6.9 64-bit",
   "language": "python",
   "name": "python36964bit93b3b690de9a4cfba6937100d45fb03f"
  }
 },
 "nbformat": 4,
 "nbformat_minor": 4
}
