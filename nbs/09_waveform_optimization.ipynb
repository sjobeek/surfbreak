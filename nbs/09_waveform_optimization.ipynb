{
 "cells": [
  {
   "cell_type": "markdown",
   "metadata": {},
   "source": [
    "### Next steps:\n",
    "\n",
    "TODO:\n",
    "1. Develop method for measuring wave propogation speed in image coordinates,  then find the flattened homography that makes this as constant as possible.\n",
    "1. Create a pipeline that generates animations for each stage of the training process (normalization, clipping, learning), and compiles into a demo video.\n",
    "1. Get tensorboard metrics logging working with this logger class: https://github.com/PyTorchLightning/pytorch-lightning/issues/1228#issuecomment-622963564\n"
   ]
  },
  {
   "cell_type": "markdown",
   "metadata": {},
   "source": [
    "### Now get optuna optimization trials working\n",
    "\n",
    "TODO:\n",
    "1. Improve early stopping such that I have control over patience parameter and ensure the _minimum_ validation loss is passed to the optuna study.\n",
    "\n",
    "The most well-regularized hyperparameters for simple (`mse_loss` only) ended up being \n",
    "256 hidden features, 3.7995 first_omega_0, 2.9312 hidden_omega_0\n",
    "\n",
    "With wavefunc loss, `squared_slowness` of around 0.5 may be close\n",
    "\n",
    "```\n",
    "Finished trial#26 with value: 0.09781524538993835 with parameters: \n",
    "{'first_omega_0': 4.839289222946841, 'hidden_omega_0': 13.756932872278343, 'squared_slowness': 0.27488941275825124, 'wave_loss_scale': 9.252313787089657e-08}\n",
    "```"
   ]
  },
  {
   "cell_type": "code",
   "execution_count": null,
   "metadata": {},
   "outputs": [
    {
     "name": "stderr",
     "output_type": "stream",
     "text": [
      "GPU available: True, used: True\n",
      "TPU available: False, using: 0 TPU cores\n",
      "CUDA_VISIBLE_DEVICES: [0]\n",
      "\n",
      "  | Name           | Type  | Params | In sizes     | Out sizes                   \n",
      "---------------------------------------------------------------------------------------\n",
      "0 | model          | Siren | 198 K  | [1, 1337, 3] | [[1, 1337, 1], [1, 1337, 3]]\n",
      "1 | slowness_model | Siren | 8 K    | ?            | ?                           \n"
     ]
    },
    {
     "data": {
      "application/vnd.jupyter.widget-view+json": {
       "model_id": "",
       "version_major": 2,
       "version_minor": 0
      },
      "text/plain": [
       "HBox(children=(FloatProgress(value=1.0, bar_style='info', description='Validation sanity check', layout=Layout…"
      ]
     },
     "metadata": {},
     "output_type": "display_data"
    },
    {
     "data": {
      "application/vnd.jupyter.widget-view+json": {
       "model_id": "95510c8fa7d54f01ab5d26f42d238c91",
       "version_major": 2,
       "version_minor": 0
      },
      "text/plain": [
       "HBox(children=(FloatProgress(value=1.0, bar_style='info', description='Training', layout=Layout(flex='2'), max…"
      ]
     },
     "metadata": {},
     "output_type": "display_data"
    },
    {
     "data": {
      "application/vnd.jupyter.widget-view+json": {
       "model_id": "",
       "version_major": 2,
       "version_minor": 0
      },
      "text/plain": [
       "HBox(children=(FloatProgress(value=1.0, bar_style='info', description='Validating', layout=Layout(flex='2'), m…"
      ]
     },
     "metadata": {},
     "output_type": "display_data"
    },
    {
     "data": {
      "application/vnd.jupyter.widget-view+json": {
       "model_id": "",
       "version_major": 2,
       "version_minor": 0
      },
      "text/plain": [
       "HBox(children=(FloatProgress(value=1.0, bar_style='info', description='Validating', layout=Layout(flex='2'), m…"
      ]
     },
     "metadata": {},
     "output_type": "display_data"
    },
    {
     "name": "stdout",
     "output_type": "stream",
     "text": [
      "\n"
     ]
    },
    {
     "name": "stderr",
     "output_type": "stream",
     "text": [
      "[I 2020-07-05 13:13:26,704] Finished trial#0 with value: 0.19167518615722656 with parameters: {'hidden_features': 256, 'hidden_layers': 3, 'first_omega_0': 1.248046093392649, 'hidden_omega_0': 14.838968497149384, 'squared_slowness': 0.381381985610618, 'wavefunc_loss_scale': 3.1740983635383545e-08, 'wavespeed_loss_scale': 0.0002281624447899972}. Best is trial#0 with value: 0.19167518615722656.\n",
      "GPU available: True, used: True\n",
      "TPU available: False, using: 0 TPU cores\n",
      "CUDA_VISIBLE_DEVICES: [0]\n",
      "\n",
      "  | Name           | Type  | Params | In sizes     | Out sizes                   \n",
      "---------------------------------------------------------------------------------------\n",
      "0 | model          | Siren | 436 K  | [1, 1337, 3] | [[1, 1337, 1], [1, 1337, 3]]\n",
      "1 | slowness_model | Siren | 8 K    | ?            | ?                           \n"
     ]
    },
    {
     "data": {
      "application/vnd.jupyter.widget-view+json": {
       "model_id": "",
       "version_major": 2,
       "version_minor": 0
      },
      "text/plain": [
       "HBox(children=(FloatProgress(value=1.0, bar_style='info', description='Validation sanity check', layout=Layout…"
      ]
     },
     "metadata": {},
     "output_type": "display_data"
    },
    {
     "data": {
      "application/vnd.jupyter.widget-view+json": {
       "model_id": "40bbccee47994310a34756cb6374163e",
       "version_major": 2,
       "version_minor": 0
      },
      "text/plain": [
       "HBox(children=(FloatProgress(value=1.0, bar_style='info', description='Training', layout=Layout(flex='2'), max…"
      ]
     },
     "metadata": {},
     "output_type": "display_data"
    },
    {
     "data": {
      "application/vnd.jupyter.widget-view+json": {
       "model_id": "",
       "version_major": 2,
       "version_minor": 0
      },
      "text/plain": [
       "HBox(children=(FloatProgress(value=1.0, bar_style='info', description='Validating', layout=Layout(flex='2'), m…"
      ]
     },
     "metadata": {},
     "output_type": "display_data"
    },
    {
     "data": {
      "application/vnd.jupyter.widget-view+json": {
       "model_id": "",
       "version_major": 2,
       "version_minor": 0
      },
      "text/plain": [
       "HBox(children=(FloatProgress(value=1.0, bar_style='info', description='Validating', layout=Layout(flex='2'), m…"
      ]
     },
     "metadata": {},
     "output_type": "display_data"
    },
    {
     "name": "stdout",
     "output_type": "stream",
     "text": [
      "\n"
     ]
    },
    {
     "name": "stderr",
     "output_type": "stream",
     "text": [
      "[I 2020-07-05 13:13:43,577] Finished trial#1 with value: 0.20219139754772186 with parameters: {'hidden_features': 380, 'hidden_layers': 3, 'first_omega_0': 1.1556850000715602, 'hidden_omega_0': 11.330566013865619, 'squared_slowness': 0.3681701069183505, 'wavefunc_loss_scale': 5.636494641482703e-08, 'wavespeed_loss_scale': 0.002031922228778422}. Best is trial#0 with value: 0.19167518615722656.\n",
      "GPU available: True, used: True\n",
      "TPU available: False, using: 0 TPU cores\n",
      "CUDA_VISIBLE_DEVICES: [0]\n",
      "\n",
      "  | Name           | Type  | Params | In sizes     | Out sizes                   \n",
      "---------------------------------------------------------------------------------------\n",
      "0 | model          | Siren | 50 K   | [1, 1337, 3] | [[1, 1337, 1], [1, 1337, 3]]\n",
      "1 | slowness_model | Siren | 8 K    | ?            | ?                           \n"
     ]
    },
    {
     "data": {
      "application/vnd.jupyter.widget-view+json": {
       "model_id": "",
       "version_major": 2,
       "version_minor": 0
      },
      "text/plain": [
       "HBox(children=(FloatProgress(value=1.0, bar_style='info', description='Validation sanity check', layout=Layout…"
      ]
     },
     "metadata": {},
     "output_type": "display_data"
    },
    {
     "data": {
      "application/vnd.jupyter.widget-view+json": {
       "model_id": "82ece5fed62341ee8bd8b97912a73ee8",
       "version_major": 2,
       "version_minor": 0
      },
      "text/plain": [
       "HBox(children=(FloatProgress(value=1.0, bar_style='info', description='Training', layout=Layout(flex='2'), max…"
      ]
     },
     "metadata": {},
     "output_type": "display_data"
    },
    {
     "data": {
      "application/vnd.jupyter.widget-view+json": {
       "model_id": "",
       "version_major": 2,
       "version_minor": 0
      },
      "text/plain": [
       "HBox(children=(FloatProgress(value=1.0, bar_style='info', description='Validating', layout=Layout(flex='2'), m…"
      ]
     },
     "metadata": {},
     "output_type": "display_data"
    },
    {
     "data": {
      "application/vnd.jupyter.widget-view+json": {
       "model_id": "",
       "version_major": 2,
       "version_minor": 0
      },
      "text/plain": [
       "HBox(children=(FloatProgress(value=1.0, bar_style='info', description='Validating', layout=Layout(flex='2'), m…"
      ]
     },
     "metadata": {},
     "output_type": "display_data"
    },
    {
     "name": "stdout",
     "output_type": "stream",
     "text": [
      "\n"
     ]
    },
    {
     "name": "stderr",
     "output_type": "stream",
     "text": [
      "[I 2020-07-05 13:14:00,394] Finished trial#2 with value: 0.18954741954803467 with parameters: {'hidden_features': 128, 'hidden_layers': 3, 'first_omega_0': 1.1841127152543858, 'hidden_omega_0': 11.358083756313386, 'squared_slowness': 0.38535743636398334, 'wavefunc_loss_scale': 4.548020166320603e-08, 'wavespeed_loss_scale': 0.0004287541327616621}. Best is trial#2 with value: 0.18954741954803467.\n"
     ]
    },
    {
     "name": "stdout",
     "output_type": "stream",
     "text": [
      "Number of finished trials: 3\n",
      "Best trial was #2:\n",
      "  Value: 0.18954741954803467\n",
      "  Params: \n",
      "    hidden_features: 128\n",
      "    hidden_layers: 3\n",
      "    first_omega_0: 1.1841127152543858\n",
      "    hidden_omega_0: 11.358083756313386\n",
      "    squared_slowness: 0.38535743636398334\n",
      "    wavefunc_loss_scale: 4.548020166320603e-08\n",
      "    wavespeed_loss_scale: 0.0004287541327616621\n"
     ]
    }
   ],
   "source": [
    "import os\n",
    "import torch\n",
    "import pytorch_lightning as pl\n",
    "from surfbreak.waveform_models import LitSirenNet\n",
    "from optuna.integration import PyTorchLightningPruningCallback\n",
    "from surfbreak.studies import run_waveform_hyperparam_search, MetricsCallback\n",
    "LOGDIR = '../tmp/testlogs'\n",
    "MODELDIR = os.path.join(LOGDIR, 'opt_models')\n",
    "\n",
    "def objective(trial):\n",
    "    checkpoint_callback = pl.callbacks.ModelCheckpoint( # Filenames for each trial must be made unique\n",
    "        os.path.join(MODELDIR, \"trial_{}\".format(trial.number), \"{epoch}\"), monitor=\"val_loss\")\n",
    "    tb_logger = pl.loggers.TensorBoardLogger(LOGDIR+'/', name=\"optuna\")\n",
    "    metrics_callback = MetricsCallback()     # Simple callback that saves metrics from each validation step.\n",
    "    \n",
    "    pl.seed_everything(42)\n",
    "    trainer = pl.Trainer(logger=tb_logger, limit_val_batches=3,\n",
    "                         max_epochs=2, \n",
    "                         gpus=1 if torch.cuda.is_available() else None,\n",
    "                         callbacks=[metrics_callback],\n",
    "                         early_stop_callback=PyTorchLightningPruningCallback(trial, monitor=\"val_loss\"),\n",
    "                        )\n",
    "\n",
    "    wavefunc_model = LitSirenNet(hidden_features=trial.suggest_categorical('hidden_features', [128, 256, 380]), #256,\n",
    "                                 hidden_layers=trial.suggest_categorical('hidden_layers', [3]), #3,\n",
    "                                 first_omega_0=trial.suggest_uniform('first_omega_0', 0.5, 2.5), #1.5, \n",
    "                                 hidden_omega_0=trial.suggest_uniform('hidden_omega_0', 8.5, 15), #11.7,\n",
    "                                 squared_slowness=trial.suggest_uniform('squared_slowness', 0.20, 0.70), #0.23,\n",
    "                                 steps_per_vid_chunk=10, \n",
    "                                 learning_rate=1e-4, grad_loss_scale=0, \n",
    "                                 wavefunc_loss_scale=trial.suggest_loguniform('wavefunc_loss_scale', 5e-9, 1e-7), #2e-8,\n",
    "                                 wavespeed_loss_scale=trial.suggest_loguniform('wavespeed_loss_scale', 1e-4, 1e-2), #1e-3,\n",
    "                                 xrange=(0,200), timerange=(0,3*10), chunk_duration=10, chunk_stride=10)\n",
    "                                 # With default settings wavezone image dimensions are (y=139, x=1515)\n",
    "\n",
    "    trainer.fit(wavefunc_model)\n",
    "    return metrics_callback.metrics[-1][\"val_loss\"].item()\n",
    "\n",
    "\n",
    "study = run_waveform_hyperparam_search(objective, n_trials=3, timeout=2*60, model_dir=MODELDIR, \n",
    "                                       prune=False, n_startup_trials=2, n_warmup_steps=5)\n"
   ]
  },
  {
   "cell_type": "code",
   "execution_count": null,
   "metadata": {},
   "outputs": [
    {
     "data": {
      "text/plain": [
       "{'hidden_features': 128,\n",
       " 'hidden_layers': 3,\n",
       " 'first_omega_0': 1.1841127152543858,\n",
       " 'hidden_omega_0': 11.358083756313386,\n",
       " 'squared_slowness': 0.38535743636398334,\n",
       " 'wavefunc_loss_scale': 4.548020166320603e-08,\n",
       " 'wavespeed_loss_scale': 0.0004287541327616621}"
      ]
     },
     "execution_count": null,
     "metadata": {},
     "output_type": "execute_result"
    }
   ],
   "source": [
    "study.best_params"
   ]
  },
  {
   "cell_type": "code",
   "execution_count": null,
   "metadata": {},
   "outputs": [
    {
     "data": {
      "text/html": [
       "<div>\n",
       "<style scoped>\n",
       "    .dataframe tbody tr th:only-of-type {\n",
       "        vertical-align: middle;\n",
       "    }\n",
       "\n",
       "    .dataframe tbody tr th {\n",
       "        vertical-align: top;\n",
       "    }\n",
       "\n",
       "    .dataframe thead th {\n",
       "        text-align: right;\n",
       "    }\n",
       "</style>\n",
       "<table border=\"1\" class=\"dataframe\">\n",
       "  <thead>\n",
       "    <tr style=\"text-align: right;\">\n",
       "      <th></th>\n",
       "      <th>number</th>\n",
       "      <th>value</th>\n",
       "      <th>datetime_start</th>\n",
       "      <th>datetime_complete</th>\n",
       "      <th>duration</th>\n",
       "      <th>params_first_omega_0</th>\n",
       "      <th>params_hidden_features</th>\n",
       "      <th>params_hidden_layers</th>\n",
       "      <th>params_hidden_omega_0</th>\n",
       "      <th>params_squared_slowness</th>\n",
       "      <th>params_wavefunc_loss_scale</th>\n",
       "      <th>params_wavespeed_loss_scale</th>\n",
       "      <th>state</th>\n",
       "    </tr>\n",
       "  </thead>\n",
       "  <tbody>\n",
       "    <tr>\n",
       "      <th>2</th>\n",
       "      <td>2</td>\n",
       "      <td>0.189547</td>\n",
       "      <td>2020-07-05 13:13:43.580345</td>\n",
       "      <td>2020-07-05 13:14:00.394124</td>\n",
       "      <td>00:00:16.813779</td>\n",
       "      <td>1.184113</td>\n",
       "      <td>128</td>\n",
       "      <td>3</td>\n",
       "      <td>11.358084</td>\n",
       "      <td>0.385357</td>\n",
       "      <td>4.548020e-08</td>\n",
       "      <td>0.000429</td>\n",
       "      <td>COMPLETE</td>\n",
       "    </tr>\n",
       "    <tr>\n",
       "      <th>0</th>\n",
       "      <td>0</td>\n",
       "      <td>0.191675</td>\n",
       "      <td>2020-07-05 13:13:07.087647</td>\n",
       "      <td>2020-07-05 13:13:26.704373</td>\n",
       "      <td>00:00:19.616726</td>\n",
       "      <td>1.248046</td>\n",
       "      <td>256</td>\n",
       "      <td>3</td>\n",
       "      <td>14.838968</td>\n",
       "      <td>0.381382</td>\n",
       "      <td>3.174098e-08</td>\n",
       "      <td>0.000228</td>\n",
       "      <td>COMPLETE</td>\n",
       "    </tr>\n",
       "    <tr>\n",
       "      <th>1</th>\n",
       "      <td>1</td>\n",
       "      <td>0.202191</td>\n",
       "      <td>2020-07-05 13:13:26.706818</td>\n",
       "      <td>2020-07-05 13:13:43.576777</td>\n",
       "      <td>00:00:16.869959</td>\n",
       "      <td>1.155685</td>\n",
       "      <td>380</td>\n",
       "      <td>3</td>\n",
       "      <td>11.330566</td>\n",
       "      <td>0.368170</td>\n",
       "      <td>5.636495e-08</td>\n",
       "      <td>0.002032</td>\n",
       "      <td>COMPLETE</td>\n",
       "    </tr>\n",
       "  </tbody>\n",
       "</table>\n",
       "</div>"
      ],
      "text/plain": [
       "   number     value             datetime_start          datetime_complete  \\\n",
       "2       2  0.189547 2020-07-05 13:13:43.580345 2020-07-05 13:14:00.394124   \n",
       "0       0  0.191675 2020-07-05 13:13:07.087647 2020-07-05 13:13:26.704373   \n",
       "1       1  0.202191 2020-07-05 13:13:26.706818 2020-07-05 13:13:43.576777   \n",
       "\n",
       "         duration  params_first_omega_0  params_hidden_features  \\\n",
       "2 00:00:16.813779              1.184113                     128   \n",
       "0 00:00:19.616726              1.248046                     256   \n",
       "1 00:00:16.869959              1.155685                     380   \n",
       "\n",
       "   params_hidden_layers  params_hidden_omega_0  params_squared_slowness  \\\n",
       "2                     3              11.358084                 0.385357   \n",
       "0                     3              14.838968                 0.381382   \n",
       "1                     3              11.330566                 0.368170   \n",
       "\n",
       "   params_wavefunc_loss_scale  params_wavespeed_loss_scale     state  \n",
       "2                4.548020e-08                     0.000429  COMPLETE  \n",
       "0                3.174098e-08                     0.000228  COMPLETE  \n",
       "1                5.636495e-08                     0.002032  COMPLETE  "
      ]
     },
     "execution_count": null,
     "metadata": {},
     "output_type": "execute_result"
    }
   ],
   "source": [
    "sdf = study.trials_dataframe()\n",
    "top_trials = sdf.sort_values(by='value')[:5]\n",
    "top_trials"
   ]
  },
  {
   "cell_type": "code",
   "execution_count": null,
   "metadata": {},
   "outputs": [
    {
     "name": "stdout",
     "output_type": "stream",
     "text": [
      "number                                              1\n",
      "value                                        0.194471\n",
      "duration                       0 days 00:00:17.766821\n",
      "params_first_omega_0                          1.19595\n",
      "params_hidden_features                        254.667\n",
      "params_hidden_layers                                3\n",
      "params_hidden_omega_0                         12.5092\n",
      "params_squared_slowness                      0.378303\n",
      "params_wavefunc_loss_scale                4.45287e-08\n",
      "params_wavespeed_loss_scale                0.00089628\n",
      "dtype: object\n",
      "number                                              1\n",
      "value                                      0.00676989\n",
      "duration                       0 days 00:00:01.602310\n",
      "params_first_omega_0                        0.0473043\n",
      "params_hidden_features                        126.005\n",
      "params_hidden_layers                                0\n",
      "params_hidden_omega_0                         2.01768\n",
      "params_squared_slowness                     0.0089978\n",
      "params_wavefunc_loss_scale                1.23395e-08\n",
      "params_wavespeed_loss_scale               0.000988596\n",
      "dtype: object\n"
     ]
    }
   ],
   "source": [
    "print(top_trials.mean())\n",
    "print(top_trials.std())"
   ]
  },
  {
   "cell_type": "code",
   "execution_count": null,
   "metadata": {},
   "outputs": [],
   "source": []
  }
 ],
 "metadata": {
  "kernelspec": {
   "display_name": "Python 3",
   "language": "python",
   "name": "python3"
  }
 },
 "nbformat": 4,
 "nbformat_minor": 4
}
