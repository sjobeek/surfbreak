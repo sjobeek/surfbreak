{
 "cells": [
  {
   "cell_type": "code",
   "execution_count": null,
   "metadata": {},
   "outputs": [],
   "source": []
  },
  {
   "cell_type": "code",
   "execution_count": null,
   "metadata": {},
   "outputs": [
    {
     "name": "stdout",
     "output_type": "stream",
     "text": [
      "[2020-06-28 22:38:43,816] \n",
      "1/3 * Epoch 1 (train): loss=0.0440\n",
      "[2020-06-28 22:38:43,816] \n",
      "1/3 * Epoch 1 (train): loss=0.0440\n",
      "[2020-06-28 22:41:10,430] \n",
      "2/3 * Epoch 2 (train): loss=0.0246\n",
      "[2020-06-28 22:41:10,430] \n",
      "2/3 * Epoch 2 (train): loss=0.0246\n",
      "[2020-06-28 22:43:37,155] \n",
      "3/3 * Epoch 3 (train): loss=0.0219\n",
      "[2020-06-28 22:43:37,155] \n",
      "3/3 * Epoch 3 (train): loss=0.0219\n",
      "Top best models:\n",
      "logs/catalyst_trials_1/checkpoints/train.3.pth\t0.0219\n"
     ]
    }
   ],
   "source": [
    "import os\n",
    "import torch\n",
    "from torch import nn\n",
    "from torch.nn import functional as F\n",
    "from torch.utils.data import DataLoader\n",
    "from catalyst import dl\n",
    "from catalyst.utils import metrics\n",
    "\n",
    "from surfbreak.loss_functions import wave_pml \n",
    "from surfbreak.datasets import WaveformVideoDataset, WaveformChunkDataset\n",
    "import explore_siren as siren\n",
    "\n",
    "\n",
    "model = siren.Siren(in_features=3, out_features=1, hidden_features=128, \n",
    "                          hidden_layers=3, outermost_linear=True, first_omega_0=1, dydt=0.65)\n",
    "    \n",
    "optimizer = torch.optim.Adam(model.parameters(), lr=2e-4)\n",
    "\n",
    "wf_dataset = WaveformVideoDataset(ydim=120, xrange=(30,91), timerange=(0,60), time_chunk_duration_s=30, time_chunk_stride_s=15, \n",
    "                                  time_axis_scale=0.5)\n",
    "chunk_dataset = WaveformChunkDataset(wf_dataset, xy_bucket_sidelen=20, samples_per_xy_bucket=100, time_sample_interval=5\n",
    "                                    dataset_length=1000) # This defines the the length of an epoch\n",
    "\n",
    "loaders = {\n",
    "    \"train\": DataLoader(chunk_dataset, batch_size=1),\n",
    "}\n",
    "\n",
    "class WaveformChunkRunner(dl.Runner):\n",
    "\n",
    "    def _handle_batch(self, batch):\n",
    "        model_input, ground_truth = batch\n",
    "        coords = model_input['coords']\n",
    "        wf_values = ground_truth['wavefront_values']\n",
    "\n",
    "        wf_values_out, coords_out = self.model(coords)\n",
    "\n",
    "        loss_mse = F.mse_loss(wf_values_out, wf_values)\n",
    "        loss = loss_mse\n",
    "        self.batch_metrics = {\n",
    "            \"loss\": loss_mse,\n",
    "        }\n",
    "\n",
    "        if self.is_train_loader:\n",
    "            self.optimizer.zero_grad()\n",
    "            loss.backward()\n",
    "            self.optimizer.step()\n",
    "\n",
    "\n",
    "runner = WaveformChunkRunner()\n",
    "runner.train(\n",
    "    model=model,\n",
    "    optimizer=optimizer,\n",
    "    loaders=loaders,\n",
    "    num_epochs=3,\n",
    "    verbose=False,\n",
    "    logdir='logs/catalyst_trials_1',\n",
    "    main_metric='loss'\n",
    ")"
   ]
  },
  {
   "cell_type": "markdown",
   "metadata": {},
   "source": [
    "### Next steps:\n",
    "\n",
    "This Catalyst library is a bit of a letdown.  Switch to Pytorch Lightning instead https://github.com/PyTorchLightning/pytorch-lightning\n",
    "\n",
    "Set up running of sequences of values using Optuna:\n",
    "https://github.com/optuna/optuna\n",
    "\n",
    "Here's an example script with an integration of the two: https://github.com/optuna/optuna/blob/master/examples/pytorch_lightning_simple.py"
   ]
  },
  {
   "cell_type": "code",
   "execution_count": null,
   "metadata": {},
   "outputs": [],
   "source": []
  }
 ],
 "metadata": {
  "kernelspec": {
   "display_name": "Python 3",
   "language": "python",
   "name": "python3"
  }
 },
 "nbformat": 4,
 "nbformat_minor": 4
}
