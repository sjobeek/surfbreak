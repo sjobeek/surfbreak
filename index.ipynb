{
 "cells": [
  {
   "cell_type": "code",
   "execution_count": null,
   "metadata": {},
   "outputs": [],
   "source": [
    "#hide\n",
    "from surfbreak.load_videos import get_surfdata, surf_spots"
   ]
  },
  {
   "cell_type": "markdown",
   "metadata": {},
   "source": [
    "# Project name here\n",
    "\n",
    "> Summary description here."
   ]
  },
  {
   "cell_type": "markdown",
   "metadata": {},
   "source": [
    "This file will become your README and also the index of your documentation."
   ]
  },
  {
   "cell_type": "markdown",
   "metadata": {},
   "source": [
    "## Install"
   ]
  },
  {
   "cell_type": "markdown",
   "metadata": {},
   "source": [
    "`pip install surfbreak`"
   ]
  },
  {
   "cell_type": "markdown",
   "metadata": {},
   "source": [
    "## How to use"
   ]
  },
  {
   "cell_type": "markdown",
   "metadata": {},
   "source": [
    "Fill me in please! Don't forget code examples:"
   ]
  },
  {
   "cell_type": "code",
   "execution_count": null,
   "metadata": {},
   "outputs": [
    {
     "data": {
      "text/plain": [
       "2"
      ]
     },
     "execution_count": null,
     "metadata": {},
     "output_type": "execute_result"
    }
   ],
   "source": [
    "1+1"
   ]
  },
  {
   "cell_type": "code",
   "execution_count": null,
   "metadata": {},
   "outputs": [
    {
     "data": {
      "text/plain": [
       "{'associated': {'units': {'temperature': 'C',\n",
       "   'tideHeight': 'M',\n",
       "   'waveHeight': 'M',\n",
       "   'windSpeed': 'KPH'},\n",
       "  'utcOffset': 9,\n",
       "  'location': {'lon': 138.973403, 'lat': 34.687813},\n",
       "  'forecastLocation': {'lon': 138.982, 'lat': 34.689},\n",
       "  'offshoreLocation': {'lon': 139, 'lat': 34},\n",
       "  'spotId': '584204204e65fad6a77098c4',\n",
       "  'tideLocation': {'name': 'Simoda, Sizuoka, Japan',\n",
       "   'min': -0.09,\n",
       "   'max': 1.75,\n",
       "   'lon': 138.95,\n",
       "   'lat': 34.6667,\n",
       "   'mean': 1.01}},\n",
       " 'data': {'wave': [{'timestamp': 1589554800,\n",
       "    'surf': {'min': 0.18, 'max': 0.47, 'optimalScore': 2},\n",
       "    'swells': [{'height': 0.09,\n",
       "      'period': 4,\n",
       "      'direction': 244.69,\n",
       "      'directionMin': 238.36,\n",
       "      'optimalScore': 0},\n",
       "     {'height': 0,\n",
       "      'period': 0,\n",
       "      'direction': 0,\n",
       "      'directionMin': 0,\n",
       "      'optimalScore': 0},\n",
       "     {'height': 0.61,\n",
       "      'period': 9,\n",
       "      'direction': 105.47,\n",
       "      'directionMin': 98.44,\n",
       "      'optimalScore': 0},\n",
       "     {'height': 0.06,\n",
       "      'period': 9,\n",
       "      'direction': 43.59,\n",
       "      'directionMin': 40.78,\n",
       "      'optimalScore': 0},\n",
       "     {'height': 0,\n",
       "      'period': 0,\n",
       "      'direction': 0,\n",
       "      'directionMin': 0,\n",
       "      'optimalScore': 0},\n",
       "     {'height': 0,\n",
       "      'period': 0,\n",
       "      'direction': 0,\n",
       "      'directionMin': 0,\n",
       "      'optimalScore': 0}]}],\n",
       "  'wind': [{'timestamp': 1589554800,\n",
       "    'speed': 4.39,\n",
       "    'direction': 236.7,\n",
       "    'gust': 6.04,\n",
       "    'optimalScore': 2}],\n",
       "  'tides': [{'timestamp': 1589554800, 'type': 'NORMAL', 'height': 1.32}],\n",
       "  'weather': [{'timestamp': 1589554800,\n",
       "    'temperature': 17.7,\n",
       "    'condition': 'NIGHT_OVERCAST_NO_RAIN'}]}}"
      ]
     },
     "execution_count": null,
     "metadata": {},
     "output_type": "execute_result"
    }
   ],
   "source": [
    "get_surfdata(surf_spots['shirahama'][\"spotid\"], forecast=False)"
   ]
  }
 ],
 "metadata": {
  "kernelspec": {
   "display_name": "Python 3",
   "language": "python",
   "name": "python3"
  }
 },
 "nbformat": 4,
 "nbformat_minor": 2
}
