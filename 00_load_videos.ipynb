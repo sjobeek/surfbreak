{
 "cells": [
  {
   "cell_type": "code",
   "execution_count": null,
   "metadata": {},
   "outputs": [],
   "source": [
    "# default_exp load_videos"
   ]
  },
  {
   "cell_type": "markdown",
   "metadata": {},
   "source": [
    "# module name here\n",
    "\n",
    "> API details."
   ]
  },
  {
   "cell_type": "code",
   "execution_count": null,
   "metadata": {},
   "outputs": [],
   "source": [
    "#hide\n",
    "from nbdev.showdoc import *"
   ]
  },
  {
   "cell_type": "code",
   "execution_count": null,
   "metadata": {},
   "outputs": [],
   "source": [
    "#export\n",
    "def test_hello():\n",
    "    print(\"hello!\")\n",
    "    return \"hello!\""
   ]
  },
  {
   "cell_type": "code",
   "execution_count": null,
   "metadata": {},
   "outputs": [
    {
     "name": "stdout",
     "output_type": "stream",
     "text": [
      "hello!\n"
     ]
    }
   ],
   "source": [
    "assert test_hello() == \"hello!\""
   ]
  },
  {
   "cell_type": "code",
   "execution_count": null,
   "metadata": {},
   "outputs": [
    {
     "name": "stdout",
     "output_type": "stream",
     "text": [
      "Converted 00_load_videos.ipynb.\n",
      "Converted index.ipynb.\n"
     ]
    }
   ],
   "source": [
    "from nbdev.export import *\n",
    "notebook2script()"
   ]
  },
  {
   "cell_type": "markdown",
   "metadata": {},
   "source": [
    "Requires ffmpeg and youtube-dl to be installed to download videos from youtube live streams."
   ]
  },
  {
   "cell_type": "code",
   "execution_count": 1,
   "metadata": {},
   "outputs": [
    {
     "name": "stdout",
     "output_type": "stream",
     "text": [
      "[youtube] WbRbWJZ7ZH0: Downloading webpage\n",
      "\u001b[0;31mERROR:\u001b[0m This video is unavailable.\n"
     ]
    }
   ],
   "source": [
    "# \"Shirahama Ohama Beach\" 白浜大浜海水浴場（静岡県下田市）\n",
    "!youtube-dl -f \"bestvideo[height<=?1080]+bestaudio/best\" -o \"tmp.mp4\" https://www.youtube.com/watch?v=WbRbWJZ7ZH0"
   ]
  },
  {
   "cell_type": "code",
   "execution_count": 3,
   "metadata": {
    "scrolled": true
   },
   "outputs": [
    {
     "name": "stdout",
     "output_type": "stream",
     "text": [
      "[youtube] 3dkBkAjNay4: Downloading webpage\n",
      "[youtube] 3dkBkAjNay4: Downloading m3u8 information\n",
      "[youtube] 3dkBkAjNay4: Downloading MPD manifest\n",
      "[download] Destination: tmp.mp4\n",
      "ffmpeg version 3.4.6-0ubuntu0.18.04.1 Copyright (c) 2000-2019 the FFmpeg developers\n",
      "  built with gcc 7 (Ubuntu 7.3.0-16ubuntu3)\n",
      "  configuration: --prefix=/usr --extra-version=0ubuntu0.18.04.1 --toolchain=hardened --libdir=/usr/lib/x86_64-linux-gnu --incdir=/usr/include/x86_64-linux-gnu --enable-gpl --disable-stripping --enable-avresample --enable-avisynth --enable-gnutls --enable-ladspa --enable-libass --enable-libbluray --enable-libbs2b --enable-libcaca --enable-libcdio --enable-libflite --enable-libfontconfig --enable-libfreetype --enable-libfribidi --enable-libgme --enable-libgsm --enable-libmp3lame --enable-libmysofa --enable-libopenjpeg --enable-libopenmpt --enable-libopus --enable-libpulse --enable-librubberband --enable-librsvg --enable-libshine --enable-libsnappy --enable-libsoxr --enable-libspeex --enable-libssh --enable-libtheora --enable-libtwolame --enable-libvorbis --enable-libvpx --enable-libwavpack --enable-libwebp --enable-libx265 --enable-libxml2 --enable-libxvid --enable-libzmq --enable-libzvbi --enable-omx --enable-openal --enable-opengl --enable-sdl2 --enable-libdc1394 --enable-libdrm --enable-libiec61883 --enable-chromaprint --enable-frei0r --enable-libopencv --enable-libx264 --enable-shared\n",
      "  libavutil      55. 78.100 / 55. 78.100\n",
      "  libavcodec     57.107.100 / 57.107.100\n",
      "  libavformat    57. 83.100 / 57. 83.100\n",
      "  libavdevice    57. 10.100 / 57. 10.100\n",
      "  libavfilter     6.107.100 /  6.107.100\n",
      "  libavresample   3.  7.  0 /  3.  7.  0\n",
      "  libswscale      4.  8.100 /  4.  8.100\n",
      "  libswresample   2.  9.100 /  2.  9.100\n",
      "  libpostproc    54.  7.100 / 54.  7.100\n",
      "\u001b[0;35m[hls,applehttp @ 0x55947c978520] \u001b[0mOpening 'https://r1---sn-ogueln7y.googlevideo.com/videoplayback/id/3dkBkAjNay4.3/itag/95/source/yt_live_broadcast/expire/1589637294/ei/Tpy_Xrb1Csids8IP8JyLkAQ/ip/126.65.211.21/requiressl/yes/ratebypass/yes/live/1/goi/160/sgoap/gir%3Dyes%3Bitag%3D140/sgovp/gir%3Dyes%3Bitag%3D136/hls_chunk_host/r1---sn-ogueln7y.googlevideo.com/playlist_duration/30/manifest_duration/30/vprv/1/playlist_type/DVR/initcwndbps/5790/mh/jd/mm/44/mn/sn-ogueln7y/ms/lva/mv/m/mvi/0/pl/16/keepalive/yes/mt/1589615602/disable_polymer/true/sparams/expire,ei,ip,id,itag,source,requiressl,ratebypass,live,goi,sgoap,sgovp,playlist_duration,manifest_duration,vprv,playlist_type/sig/AOq0QJ8wRQIhALpbFtbN08_T0ngMJ5-jKrQ3i5oF8OY6cj1ns2x67HhuAiBJQuQGKk39BmKdA1Kah45E6zVRJsWfpMj6aMOA-MMUXA%3D%3D/lsparams/hls_chunk_host,initcwndbps,mh,mm,mn,ms,mv,mvi,pl/lsig/AG3C_xAwRgIhAP2kvfAjIGOkkE63yx-PglRnr34Sq9uKU1zwyRJiA_egAiEA-uHwa-79lqnxuhwc7gP6XUPJHEXjsQFL25Lq1tQx4sg%3D/playlist/index.m3u8/sq/987709/goap/clen%3D44733%3Blmt%3D1589461210631985/govp/clen%3D78116%3Blmt%3D1589461210631995/dur/2.000/file/seg.ts' for reading\n",
      "Input #0, hls,applehttp, from 'https://manifest.googlevideo.com/api/manifest/hls_playlist/expire/1589637294/ei/Tpy_Xrb1Csids8IP8JyLkAQ/ip/126.65.211.21/id/3dkBkAjNay4.3/itag/95/source/yt_live_broadcast/requiressl/yes/ratebypass/yes/live/1/goi/160/sgoap/gir%3Dyes%3Bitag%3D140/sgovp/gir%3Dyes%3Bitag%3D136/hls_chunk_host/r1---sn-ogueln7y.googlevideo.com/playlist_duration/30/manifest_duration/30/vprv/1/playlist_type/DVR/initcwndbps/5790/mh/jd/mm/44/mn/sn-ogueln7y/ms/lva/mv/m/mvi/0/pl/16/dover/11/keepalive/yes/mt/1589615602/disable_polymer/true/sparams/expire,ei,ip,id,itag,source,requiressl,ratebypass,live,goi,sgoap,sgovp,playlist_duration,manifest_duration,vprv,playlist_type/sig/AOq0QJ8wRQIhALpbFtbN08_T0ngMJ5-jKrQ3i5oF8OY6cj1ns2x67HhuAiBJQuQGKk39BmKdA1Kah45E6zVRJsWfpMj6aMOA-MMUXA%3D%3D/lsparams/hls_chunk_host,initcwndbps,mh,mm,mn,ms,mv,mvi,pl/lsig/AG3C_xAwRgIhAP2kvfAjIGOkkE63yx-PglRnr34Sq9uKU1zwyRJiA_egAiEA-uHwa-79lqnxuhwc7gP6XUPJHEXjsQFL25Lq1tQx4sg%3D/playlist/index.m3u8':\n",
      "  Duration: N/A, start: 66186.430889, bitrate: N/A\n",
      "  Program 0 \n",
      "    Metadata:\n",
      "      variant_bitrate : 0\n",
      "    Stream #0:0: Audio: aac (LC) ([15][0][0][0] / 0x000F), 48000 Hz, stereo, fltp\n",
      "    Metadata:\n",
      "      variant_bitrate : 0\n",
      "    Stream #0:1: Video: h264 (Main) ([27][0][0][0] / 0x001B), yuv420p(tv, bt709), 1280x720 [SAR 1:1 DAR 16:9], 30 tbr, 90k tbn, 60 tbc\n",
      "    Metadata:\n",
      "      variant_bitrate : 0\n",
      "Output #0, mp4, to 'file:tmp.mp4.part':\n",
      "  Metadata:\n",
      "    encoder         : Lavf57.83.100\n",
      "    Stream #0:0: Video: h264 (Main) (avc1 / 0x31637661), yuv420p(tv, bt709), 1280x720 [SAR 1:1 DAR 16:9], q=2-31, 30 tbr, 90k tbn, 90k tbc\n",
      "    Metadata:\n",
      "      variant_bitrate : 0\n",
      "    Stream #0:1: Audio: aac (LC) (mp4a / 0x6134706D), 48000 Hz, stereo, fltp\n",
      "    Metadata:\n",
      "      variant_bitrate : 0\n",
      "Stream mapping:\n",
      "  Stream #0:1 -> #0:0 (copy)\n",
      "  Stream #0:0 -> #0:1 (copy)\n",
      "Press [q] to stop, [?] for help\n",
      "^C\n"
     ]
    }
   ],
   "source": [
    "# 新舞子海水浴場 福ヶ浜 ライブ配信\n",
    "!youtube-dl -f \"bestvideo[height<=?1080]+bestaudio/best\" -o \"tmp.mp4\" https://www.youtube.com/watch?v=3dkBkAjNay4"
   ]
  },
  {
   "cell_type": "code",
   "execution_count": null,
   "metadata": {},
   "outputs": [],
   "source": []
  }
 ],
 "metadata": {
  "kernelspec": {
   "display_name": "Python 3",
   "language": "python",
   "name": "python3"
  },
  "language_info": {
   "codemirror_mode": {
    "name": "ipython",
    "version": 3
   },
   "file_extension": ".py",
   "mimetype": "text/x-python",
   "name": "python",
   "nbconvert_exporter": "python",
   "pygments_lexer": "ipython3",
   "version": "3.6.9"
  }
 },
 "nbformat": 4,
 "nbformat_minor": 2
}
